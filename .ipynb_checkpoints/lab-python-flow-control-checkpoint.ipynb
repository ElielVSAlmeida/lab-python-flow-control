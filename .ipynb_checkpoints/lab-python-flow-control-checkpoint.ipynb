{
 "cells": [
  {
   "cell_type": "markdown",
   "id": "d3bfc191-8885-42ee-b0a0-bbab867c6f9f",
   "metadata": {
    "tags": []
   },
   "source": [
    "# Lab | Flow Control"
   ]
  },
  {
   "cell_type": "markdown",
   "id": "3851fcd1-cf98-4653-9c89-e003b7ec9400",
   "metadata": {},
   "source": [
    "## Exercise: Managing Customer Orders Optimized\n",
    "\n",
    "In the last lab, you were starting an online store that sells various products. To ensure smooth operations, you developed a program that manages customer orders and inventory.\n",
    "\n",
    "You did so without using flow control. Let's go a step further and improve this code.\n",
    "\n",
    "Follow the steps below to complete the exercise:\n",
    "\n",
    "1. Look at your code from the lab data structures, and improve repeated code with loops.\n",
    "\n",
    "2. Instead of asking the user to input the name of three products that a customer wants to order, do the following:\n",
    "    \n",
    "    a. Prompt the user to enter the name of a product that a customer wants to order.\n",
    "    \n",
    "    b. Add the product name to the \"customer_orders\" set.\n",
    "    \n",
    "    c. Ask the user if they want to add another product (yes/no).\n",
    "    \n",
    "    d. Continue the loop until the user does not want to add another product.\n",
    "\n",
    "3. Instead of updating the inventory by subtracting 1 from the quantity of each product, only do it for  the products that were ordered (those in \"customer_orders\")."
   ]
  },
  {
   "cell_type": "code",
   "execution_count": 99,
   "id": "c52b6e72",
   "metadata": {},
   "outputs": [
    {
     "name": "stdout",
     "output_type": "stream",
     "text": [
      "Please place the quantity of t-shirt: 5\n",
      "Please place the quantity of mug: 5\n",
      "Please place the quantity of hat: 5\n",
      "Please place the quantity of book: 5\n",
      "Please place the quantity of keychain: 5\n",
      "{'t-shirt': 5, 'mug': 5, 'hat': 5, 'book': 5, 'keychain': 5}\n"
     ]
    }
   ],
   "source": [
    "products = [\"t-shirt\", \"mug\", \"hat\", \"book\", \"keychain\"]\n",
    "inventory = {}\n",
    "for items in range(len(products)):\n",
    "    qt = int(input(f'Please place the quantity of {products[items]}: '))\n",
    "    inventory[products[items]] = qt\n",
    "print(inventory)"
   ]
  },
  {
   "cell_type": "code",
   "execution_count": 50,
   "id": "f2d8c319",
   "metadata": {},
   "outputs": [
    {
     "name": "stdout",
     "output_type": "stream",
     "text": [
      "What would you like to order? yes or no yes\n",
      "Products you want order? hat\n",
      "Continue? Use yesyes\n",
      "Products you want order? book\n",
      "Continue? Use yesno\n",
      "{'hat', 'book'}\n"
     ]
    }
   ],
   "source": [
    "customerOrder = set()\n",
    "intendedAction = input(\"What would you like to order? yes or no \").strip()\n",
    "while intendedAction == \"yes\":\n",
    "    if intendedAction == \"yes\":\n",
    "        qc1 = input('Products you want order? ')\n",
    "        customerOrder.add(qc1)\n",
    "\n",
    "        intendedAction = input(\"Continue? Use yes\").strip()\n",
    "    else:\n",
    "        break\n",
    "print(customerOrder)"
   ]
  },
  {
   "cell_type": "code",
   "execution_count": 100,
   "id": "17177121",
   "metadata": {},
   "outputs": [
    {
     "name": "stdout",
     "output_type": "stream",
     "text": [
      "{'t-shirt': 5, 'mug': 5, 'hat': 4, 'book': 4, 'keychain': 5}\n"
     ]
    }
   ],
   "source": [
    "for i in customerOrder:\n",
    "    if i in inventory.keys():\n",
    "        inventory[i] -= 1\n",
    "print(inventory)"
   ]
  }
 ],
 "metadata": {
  "kernelspec": {
   "display_name": "Python 3 (ipykernel)",
   "language": "python",
   "name": "python3"
  },
  "language_info": {
   "codemirror_mode": {
    "name": "ipython",
    "version": 3
   },
   "file_extension": ".py",
   "mimetype": "text/x-python",
   "name": "python",
   "nbconvert_exporter": "python",
   "pygments_lexer": "ipython3",
   "version": "3.11.3"
  }
 },
 "nbformat": 4,
 "nbformat_minor": 5
}
